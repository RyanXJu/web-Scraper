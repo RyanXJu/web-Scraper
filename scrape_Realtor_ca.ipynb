{
  "nbformat": 4,
  "nbformat_minor": 0,
  "metadata": {
    "colab": {
      "name": "scrape Realtor.ca",
      "provenance": [],
      "authorship_tag": "ABX9TyMDVR85j2i//TClXOlmfeFr",
      "include_colab_link": true
    },
    "kernelspec": {
      "name": "python3",
      "display_name": "Python 3"
    }
  },
  "cells": [
    {
      "cell_type": "markdown",
      "metadata": {
        "id": "view-in-github",
        "colab_type": "text"
      },
      "source": [
        "<a href=\"https://colab.research.google.com/github/RyanXJu/web-Scraper/blob/master/scrape_Realtor_ca.ipynb\" target=\"_parent\"><img src=\"https://colab.research.google.com/assets/colab-badge.svg\" alt=\"Open In Colab\"/></a>"
      ]
    },
    {
      "cell_type": "code",
      "metadata": {
        "id": "PfKxkn8hfQMg",
        "colab_type": "code",
        "colab": {
          "base_uri": "https://localhost:8080/",
          "height": 72
        },
        "outputId": "1a34c3d7-bb9b-4cd4-d36f-e64e9fbdfe53"
      },
      "source": [
        "from bs4 import BeautifulSoup\n",
        "from requests import get\n",
        "import pandas as pd\n",
        "import itertools\n",
        "import matplotlib.pyplot as plt\n",
        "import seaborn as sns\n",
        "sns.set()"
      ],
      "execution_count": 1,
      "outputs": [
        {
          "output_type": "stream",
          "text": [
            "/usr/local/lib/python3.6/dist-packages/statsmodels/tools/_testing.py:19: FutureWarning: pandas.util.testing is deprecated. Use the functions in the public API at pandas.testing instead.\n",
            "  import pandas.util.testing as tm\n"
          ],
          "name": "stderr"
        }
      ]
    },
    {
      "cell_type": "markdown",
      "metadata": {
        "id": "wvIqjJNnhrtu",
        "colab_type": "text"
      },
      "source": [
        "### check if the website allows scraping\n",
        "#### adding /robots.txt to the original domain\n",
        "\n",
        "### if the site doesn't allow scraping, we can  define a header to pass along the ***get*** command, which will basically make our queries to the website look like they are coming from an actual browser"
      ]
    },
    {
      "cell_type": "markdown",
      "metadata": {
        "id": "Pk7Odt75kgFQ",
        "colab_type": "text"
      },
      "source": [
        "## Scrape web"
      ]
    },
    {
      "cell_type": "code",
      "metadata": {
        "id": "WAe3tbVMhcCO",
        "colab_type": "code",
        "colab": {}
      },
      "source": [
        "headers = ({'User-Agent':\n",
        "            'Mozilla/5.0 (Windows NT 6.1) AppleWebKit/537.36 (KHTML, like Gecko) Chrome/41.0.2228.0 Safari/537.36'})"
      ],
      "execution_count": 5,
      "outputs": []
    },
    {
      "cell_type": "code",
      "metadata": {
        "id": "pcUMbdigjxLf",
        "colab_type": "code",
        "colab": {}
      },
      "source": [
        "# define the url to use\n",
        "# sapo = \"https://casa.sapo.pt/Venda/Apartamentos/?sa=11&or=10\"\n",
        "\n",
        "realtor = \"https://www.realtor.ca/qc/montreal/real-estate\"\n",
        "\n",
        "response = get(realtor, headers=headers)"
      ],
      "execution_count": 14,
      "outputs": []
    },
    {
      "cell_type": "code",
      "metadata": {
        "id": "PNLEeG5gj3-p",
        "colab_type": "code",
        "colab": {
          "base_uri": "https://localhost:8080/",
          "height": 34
        },
        "outputId": "d4df0f44-46a3-42c5-9f34-efea51493a69"
      },
      "source": [
        "print(response)\n",
        "# list of HTTP status codes : https://en.wikipedia.org/wiki/List_of_HTTP_status_codes"
      ],
      "execution_count": 15,
      "outputs": [
        {
          "output_type": "stream",
          "text": [
            "<Response [200]>\n"
          ],
          "name": "stdout"
        }
      ]
    },
    {
      "cell_type": "code",
      "metadata": {
        "id": "vDigyxHAkS6X",
        "colab_type": "code",
        "colab": {
          "base_uri": "https://localhost:8080/",
          "height": 298
        },
        "outputId": "6d5681eb-c4a5-4821-ed8a-77d017a3cc9e"
      },
      "source": [
        "print(response.text[:1000])"
      ],
      "execution_count": 16,
      "outputs": [
        {
          "output_type": "stream",
          "text": [
            "\r\n",
            "<!DOCTYPE html>\r\n",
            "<html xmlns=\"http://www.w3.org/1999/xhtml\" lang=\"en\">\r\n",
            "<head><script src=\"/e8469ba99880590089b6cb783b503a90\" async></script><meta charset=\"utf-8\" /><meta name=\"theme-color\" content=\"#D0191D\" /><meta name=\"viewport\" content=\"width=device-width\" /><meta name=\"google\" content=\"notranslate\" /><meta http-equiv=\"CACHE-CONTROL\" content=\"NO-CACHE\" /><meta http-equiv=\"PRAGMA\" content=\"NO-CACHE\" /><meta name=\"GOOGLEBOT\" content=\"NOARCHIVE\" /><meta name=\"format-detection\" content=\"telephone=no\" /><meta name=\"shareaholic:site_id\" content=\"a2430a87e639e6cf0f00273171d97103\" />\r\n",
            "    <link rel=\"alternate\" hreflang=\"en\" href=\"https://www.realtor.ca/qc/montreal/real-estate\" />\r\n",
            "    \r\n",
            "    <link rel=\"alternate\" hreflang=\"fr\" href=\"https://www.realtor.ca/qc/montréal/immobilier\" />\r\n",
            "    \r\n",
            "    <link rel=\"canonical\" href=\"https://www.realtor.ca/qc/montreal/real-estate\" />\r\n",
            "    <title>\r\n",
            "\tReal Estate in Montréal | REALTOR.ca\r\n",
            "</title>\r\n",
            "\r\n",
            "    <!-- FavIcon and browser tile defaults (begin)-->\r\n",
            "\n"
          ],
          "name": "stdout"
        }
      ]
    },
    {
      "cell_type": "markdown",
      "metadata": {
        "id": "3nni4lV7kbam",
        "colab_type": "text"
      },
      "source": [
        "## make the Soup!"
      ]
    },
    {
      "cell_type": "code",
      "metadata": {
        "id": "tT5mTcKBkeHw",
        "colab_type": "code",
        "colab": {}
      },
      "source": [
        "html_soup = BeautifulSoup(response.text, 'html.parser')"
      ],
      "execution_count": 17,
      "outputs": []
    },
    {
      "cell_type": "markdown",
      "metadata": {
        "id": "qdinpo89nP7V",
        "colab_type": "text"
      },
      "source": [
        "an object that can be iterated while we scrape the results in each search page\n",
        "\n",
        "\n",
        "\n",
        "\n"
      ]
    },
    {
      "cell_type": "code",
      "metadata": {
        "id": "N7f7n_Abm-Bd",
        "colab_type": "code",
        "colab": {}
      },
      "source": [
        "house_containers = html_soup.find_all('div', class_=\"listingCard card\")"
      ],
      "execution_count": 71,
      "outputs": []
    },
    {
      "cell_type": "code",
      "metadata": {
        "id": "RCcRthLcnbuM",
        "colab_type": "code",
        "colab": {
          "base_uri": "https://localhost:8080/",
          "height": 1000
        },
        "outputId": "bf3225df-20d0-46fa-f56f-25baf49891c7"
      },
      "source": [
        "first = house_containers[0]\n",
        "first.find_all('div')"
      ],
      "execution_count": 72,
      "outputs": [
        {
          "output_type": "execute_result",
          "data": {
            "text/plain": [
              "[<div class=\"listingCardHeader\">\n",
              " <div class=\"listingCardHeaderLeft\">\n",
              " </div>\n",
              " <div class=\"listingCardHeaderRight\" data-binding=\"visible=ShowHeaderIcons\">\n",
              " <a aria-label=\"Add Notes\" class=\"propertyCardDetailsNoteIcon noteIcon listingCardActionIcon\" data-binding=\"data-value={Id}_{AddressForNotes}_{Latitude}_{Longitude}\" data-value=\"21600898_24 Rue Roger, Montréal (L'Île-Bizard/Sainte-Geneviève), Quebec _45.478_-73.925661\" href=\"#\" style=\"text-decoration: none; display: none;\">\n",
              " <span class=\"listingCardNoteIcon m_al fa fa-sticky-note\" style=\"font-size: 31px; color: #F3E500;\"></span></a>\n",
              " <a aria-label=\"Add to My Favourites\" class=\"propertyCardDetailsFavouriteIcon favouriteIcon listingCardActionIcon\" data-binding=\"data-value={Id}_{Latitude}_{Longitude}_{AppMode}\" data-value=\"21600898_45.478_-73.925661_1\" href=\"#\" onclick=\"\" style=\"text-decoration: none;\">\n",
              " <img alt=\"\" src=\"/images/common/icons/svg/heart-empty.svg\" style=\"height: 27px; width: 31px;\"/>\n",
              " </a>\n",
              " </div>\n",
              " </div>, <div class=\"listingCardHeaderLeft\">\n",
              " </div>, <div class=\"listingCardHeaderRight\" data-binding=\"visible=ShowHeaderIcons\">\n",
              " <a aria-label=\"Add Notes\" class=\"propertyCardDetailsNoteIcon noteIcon listingCardActionIcon\" data-binding=\"data-value={Id}_{AddressForNotes}_{Latitude}_{Longitude}\" data-value=\"21600898_24 Rue Roger, Montréal (L'Île-Bizard/Sainte-Geneviève), Quebec _45.478_-73.925661\" href=\"#\" style=\"text-decoration: none; display: none;\">\n",
              " <span class=\"listingCardNoteIcon m_al fa fa-sticky-note\" style=\"font-size: 31px; color: #F3E500;\"></span></a>\n",
              " <a aria-label=\"Add to My Favourites\" class=\"propertyCardDetailsFavouriteIcon favouriteIcon listingCardActionIcon\" data-binding=\"data-value={Id}_{Latitude}_{Longitude}_{AppMode}\" data-value=\"21600898_45.478_-73.925661_1\" href=\"#\" onclick=\"\" style=\"text-decoration: none;\">\n",
              " <img alt=\"\" src=\"/images/common/icons/svg/heart-empty.svg\" style=\"height: 27px; width: 31px;\"/>\n",
              " </a>\n",
              " </div>, <div class=\"listingCardOuterBody\">\n",
              " <div class=\"listingCardImageCon\">\n",
              " <img alt=\"24 Rue Roger, Montréal (L'Île-Bizard/Sainte-Geneviève), Quebec \" class=\"listingCardImage\" data-binding=\"src=ImageURL,alt=Address\" src=\"https://cdn.realtor.ca/listings/TS637177241770070000/reb5/medres/7/22124917_1.jpg\">\n",
              " </img></div>\n",
              " <div class=\"listingCardBody\">\n",
              " <div class=\"listingCardTopBody\" data-binding=\"hidden=ListingNotFound\">\n",
              " <div class=\"listingCardMLS\" style=\"display: none;\">MLS<sup>®</sup>: <span data-binding=\"innertext=MLSNumber,title=MLSNumber\" title=\"22124917\">22124917</span></div>\n",
              " <div class=\"listingCardPrice\" data-binding=\"data-value-cad={Price},innertext=DisplayPrice,title=ConvertedPrice\" data-value-cad=\"$49,000\" title=\"$49,000 \">$49,000 </div>\n",
              " <div class=\"listingCardAddress\" data-binding=\"innertext=Address\">\n",
              "                         24 Rue Roger, Montréal (L'Île-Bizard/Sainte-Geneviève), Quebec \n",
              "                     </div>\n",
              " </div>\n",
              " <div class=\"listingCardIconStrip\" data-binding=\"FooterIcons,visible=ShowFooterIcons\">\n",
              " <div class=\"listingCardIconCon\">\n",
              " <div class=\"listingCardIconTopCon\">\n",
              " <div class=\"listingCardIconNum\" data-binding=\"innertext=NumberVal\">2</div>\n",
              " <div class=\"listingCardIcon\" data-binding=\"innertext=IconHTML\"><div class=\"propertyCardBedIcon\"><img alt=\"\" src=\"/images/common/icons/svg/bed-gray.svg\"/></div></div>\n",
              " </div>\n",
              " <div class=\"listingCardIconText\" data-binding=\"innertext=Label\">Bedrooms</div>\n",
              " </div>\n",
              " <div class=\"listingCardIconCon\">\n",
              " <div class=\"listingCardIconTopCon\">\n",
              " <div class=\"listingCardIconNum\" data-binding=\"innertext=NumberVal\">1</div>\n",
              " <div class=\"listingCardIcon\" data-binding=\"innertext=IconHTML\"><div class=\"propertyCardBedIcon\"><img alt=\"\" src=\"/images/common/icons/svg/bath-gray.svg\"/></div></div>\n",
              " </div>\n",
              " <div class=\"listingCardIconText\" data-binding=\"innertext=Label\">Bathrooms</div>\n",
              " </div>\n",
              " <div class=\"listingCardIconCon\">\n",
              " <div class=\"listingCardIconTopCon\">\n",
              " <div class=\"listingCardIconNum\" data-binding=\"innertext=NumberVal\"></div>\n",
              " <div class=\"listingCardIcon\" data-binding=\"innertext=IconHTML\"><div class=\"propertyCardBedIcon\"><img alt=\"\" src=\"/images/common/icons/svg/house-gray2.svg\"/></div></div>\n",
              " </div>\n",
              " <div class=\"listingCardIconText\" data-binding=\"innertext=Label\">Single Family</div>\n",
              " </div>\n",
              " </div>\n",
              " <div class=\"listingCardOfficeName\" data-binding=\"innertext=OfficeNameAndType\">RE/MAX 3000 INC., Real Estate Agency</div>\n",
              " </div>\n",
              " </div>, <div class=\"listingCardImageCon\">\n",
              " <img alt=\"24 Rue Roger, Montréal (L'Île-Bizard/Sainte-Geneviève), Quebec \" class=\"listingCardImage\" data-binding=\"src=ImageURL,alt=Address\" src=\"https://cdn.realtor.ca/listings/TS637177241770070000/reb5/medres/7/22124917_1.jpg\">\n",
              " </img></div>, <div class=\"listingCardBody\">\n",
              " <div class=\"listingCardTopBody\" data-binding=\"hidden=ListingNotFound\">\n",
              " <div class=\"listingCardMLS\" style=\"display: none;\">MLS<sup>®</sup>: <span data-binding=\"innertext=MLSNumber,title=MLSNumber\" title=\"22124917\">22124917</span></div>\n",
              " <div class=\"listingCardPrice\" data-binding=\"data-value-cad={Price},innertext=DisplayPrice,title=ConvertedPrice\" data-value-cad=\"$49,000\" title=\"$49,000 \">$49,000 </div>\n",
              " <div class=\"listingCardAddress\" data-binding=\"innertext=Address\">\n",
              "                         24 Rue Roger, Montréal (L'Île-Bizard/Sainte-Geneviève), Quebec \n",
              "                     </div>\n",
              " </div>\n",
              " <div class=\"listingCardIconStrip\" data-binding=\"FooterIcons,visible=ShowFooterIcons\">\n",
              " <div class=\"listingCardIconCon\">\n",
              " <div class=\"listingCardIconTopCon\">\n",
              " <div class=\"listingCardIconNum\" data-binding=\"innertext=NumberVal\">2</div>\n",
              " <div class=\"listingCardIcon\" data-binding=\"innertext=IconHTML\"><div class=\"propertyCardBedIcon\"><img alt=\"\" src=\"/images/common/icons/svg/bed-gray.svg\"/></div></div>\n",
              " </div>\n",
              " <div class=\"listingCardIconText\" data-binding=\"innertext=Label\">Bedrooms</div>\n",
              " </div>\n",
              " <div class=\"listingCardIconCon\">\n",
              " <div class=\"listingCardIconTopCon\">\n",
              " <div class=\"listingCardIconNum\" data-binding=\"innertext=NumberVal\">1</div>\n",
              " <div class=\"listingCardIcon\" data-binding=\"innertext=IconHTML\"><div class=\"propertyCardBedIcon\"><img alt=\"\" src=\"/images/common/icons/svg/bath-gray.svg\"/></div></div>\n",
              " </div>\n",
              " <div class=\"listingCardIconText\" data-binding=\"innertext=Label\">Bathrooms</div>\n",
              " </div>\n",
              " <div class=\"listingCardIconCon\">\n",
              " <div class=\"listingCardIconTopCon\">\n",
              " <div class=\"listingCardIconNum\" data-binding=\"innertext=NumberVal\"></div>\n",
              " <div class=\"listingCardIcon\" data-binding=\"innertext=IconHTML\"><div class=\"propertyCardBedIcon\"><img alt=\"\" src=\"/images/common/icons/svg/house-gray2.svg\"/></div></div>\n",
              " </div>\n",
              " <div class=\"listingCardIconText\" data-binding=\"innertext=Label\">Single Family</div>\n",
              " </div>\n",
              " </div>\n",
              " <div class=\"listingCardOfficeName\" data-binding=\"innertext=OfficeNameAndType\">RE/MAX 3000 INC., Real Estate Agency</div>\n",
              " </div>, <div class=\"listingCardTopBody\" data-binding=\"hidden=ListingNotFound\">\n",
              " <div class=\"listingCardMLS\" style=\"display: none;\">MLS<sup>®</sup>: <span data-binding=\"innertext=MLSNumber,title=MLSNumber\" title=\"22124917\">22124917</span></div>\n",
              " <div class=\"listingCardPrice\" data-binding=\"data-value-cad={Price},innertext=DisplayPrice,title=ConvertedPrice\" data-value-cad=\"$49,000\" title=\"$49,000 \">$49,000 </div>\n",
              " <div class=\"listingCardAddress\" data-binding=\"innertext=Address\">\n",
              "                         24 Rue Roger, Montréal (L'Île-Bizard/Sainte-Geneviève), Quebec \n",
              "                     </div>\n",
              " </div>, <div class=\"listingCardMLS\" style=\"display: none;\">MLS<sup>®</sup>: <span data-binding=\"innertext=MLSNumber,title=MLSNumber\" title=\"22124917\">22124917</span></div>, <div class=\"listingCardPrice\" data-binding=\"data-value-cad={Price},innertext=DisplayPrice,title=ConvertedPrice\" data-value-cad=\"$49,000\" title=\"$49,000 \">$49,000 </div>, <div class=\"listingCardAddress\" data-binding=\"innertext=Address\">\n",
              "                         24 Rue Roger, Montréal (L'Île-Bizard/Sainte-Geneviève), Quebec \n",
              "                     </div>, <div class=\"listingCardIconStrip\" data-binding=\"FooterIcons,visible=ShowFooterIcons\">\n",
              " <div class=\"listingCardIconCon\">\n",
              " <div class=\"listingCardIconTopCon\">\n",
              " <div class=\"listingCardIconNum\" data-binding=\"innertext=NumberVal\">2</div>\n",
              " <div class=\"listingCardIcon\" data-binding=\"innertext=IconHTML\"><div class=\"propertyCardBedIcon\"><img alt=\"\" src=\"/images/common/icons/svg/bed-gray.svg\"/></div></div>\n",
              " </div>\n",
              " <div class=\"listingCardIconText\" data-binding=\"innertext=Label\">Bedrooms</div>\n",
              " </div>\n",
              " <div class=\"listingCardIconCon\">\n",
              " <div class=\"listingCardIconTopCon\">\n",
              " <div class=\"listingCardIconNum\" data-binding=\"innertext=NumberVal\">1</div>\n",
              " <div class=\"listingCardIcon\" data-binding=\"innertext=IconHTML\"><div class=\"propertyCardBedIcon\"><img alt=\"\" src=\"/images/common/icons/svg/bath-gray.svg\"/></div></div>\n",
              " </div>\n",
              " <div class=\"listingCardIconText\" data-binding=\"innertext=Label\">Bathrooms</div>\n",
              " </div>\n",
              " <div class=\"listingCardIconCon\">\n",
              " <div class=\"listingCardIconTopCon\">\n",
              " <div class=\"listingCardIconNum\" data-binding=\"innertext=NumberVal\"></div>\n",
              " <div class=\"listingCardIcon\" data-binding=\"innertext=IconHTML\"><div class=\"propertyCardBedIcon\"><img alt=\"\" src=\"/images/common/icons/svg/house-gray2.svg\"/></div></div>\n",
              " </div>\n",
              " <div class=\"listingCardIconText\" data-binding=\"innertext=Label\">Single Family</div>\n",
              " </div>\n",
              " </div>, <div class=\"listingCardIconCon\">\n",
              " <div class=\"listingCardIconTopCon\">\n",
              " <div class=\"listingCardIconNum\" data-binding=\"innertext=NumberVal\">2</div>\n",
              " <div class=\"listingCardIcon\" data-binding=\"innertext=IconHTML\"><div class=\"propertyCardBedIcon\"><img alt=\"\" src=\"/images/common/icons/svg/bed-gray.svg\"/></div></div>\n",
              " </div>\n",
              " <div class=\"listingCardIconText\" data-binding=\"innertext=Label\">Bedrooms</div>\n",
              " </div>, <div class=\"listingCardIconTopCon\">\n",
              " <div class=\"listingCardIconNum\" data-binding=\"innertext=NumberVal\">2</div>\n",
              " <div class=\"listingCardIcon\" data-binding=\"innertext=IconHTML\"><div class=\"propertyCardBedIcon\"><img alt=\"\" src=\"/images/common/icons/svg/bed-gray.svg\"/></div></div>\n",
              " </div>, <div class=\"listingCardIconNum\" data-binding=\"innertext=NumberVal\">2</div>, <div class=\"listingCardIcon\" data-binding=\"innertext=IconHTML\"><div class=\"propertyCardBedIcon\"><img alt=\"\" src=\"/images/common/icons/svg/bed-gray.svg\"/></div></div>, <div class=\"propertyCardBedIcon\"><img alt=\"\" src=\"/images/common/icons/svg/bed-gray.svg\"/></div>, <div class=\"listingCardIconText\" data-binding=\"innertext=Label\">Bedrooms</div>, <div class=\"listingCardIconCon\">\n",
              " <div class=\"listingCardIconTopCon\">\n",
              " <div class=\"listingCardIconNum\" data-binding=\"innertext=NumberVal\">1</div>\n",
              " <div class=\"listingCardIcon\" data-binding=\"innertext=IconHTML\"><div class=\"propertyCardBedIcon\"><img alt=\"\" src=\"/images/common/icons/svg/bath-gray.svg\"/></div></div>\n",
              " </div>\n",
              " <div class=\"listingCardIconText\" data-binding=\"innertext=Label\">Bathrooms</div>\n",
              " </div>, <div class=\"listingCardIconTopCon\">\n",
              " <div class=\"listingCardIconNum\" data-binding=\"innertext=NumberVal\">1</div>\n",
              " <div class=\"listingCardIcon\" data-binding=\"innertext=IconHTML\"><div class=\"propertyCardBedIcon\"><img alt=\"\" src=\"/images/common/icons/svg/bath-gray.svg\"/></div></div>\n",
              " </div>, <div class=\"listingCardIconNum\" data-binding=\"innertext=NumberVal\">1</div>, <div class=\"listingCardIcon\" data-binding=\"innertext=IconHTML\"><div class=\"propertyCardBedIcon\"><img alt=\"\" src=\"/images/common/icons/svg/bath-gray.svg\"/></div></div>, <div class=\"propertyCardBedIcon\"><img alt=\"\" src=\"/images/common/icons/svg/bath-gray.svg\"/></div>, <div class=\"listingCardIconText\" data-binding=\"innertext=Label\">Bathrooms</div>, <div class=\"listingCardIconCon\">\n",
              " <div class=\"listingCardIconTopCon\">\n",
              " <div class=\"listingCardIconNum\" data-binding=\"innertext=NumberVal\"></div>\n",
              " <div class=\"listingCardIcon\" data-binding=\"innertext=IconHTML\"><div class=\"propertyCardBedIcon\"><img alt=\"\" src=\"/images/common/icons/svg/house-gray2.svg\"/></div></div>\n",
              " </div>\n",
              " <div class=\"listingCardIconText\" data-binding=\"innertext=Label\">Single Family</div>\n",
              " </div>, <div class=\"listingCardIconTopCon\">\n",
              " <div class=\"listingCardIconNum\" data-binding=\"innertext=NumberVal\"></div>\n",
              " <div class=\"listingCardIcon\" data-binding=\"innertext=IconHTML\"><div class=\"propertyCardBedIcon\"><img alt=\"\" src=\"/images/common/icons/svg/house-gray2.svg\"/></div></div>\n",
              " </div>, <div class=\"listingCardIconNum\" data-binding=\"innertext=NumberVal\"></div>, <div class=\"listingCardIcon\" data-binding=\"innertext=IconHTML\"><div class=\"propertyCardBedIcon\"><img alt=\"\" src=\"/images/common/icons/svg/house-gray2.svg\"/></div></div>, <div class=\"propertyCardBedIcon\"><img alt=\"\" src=\"/images/common/icons/svg/house-gray2.svg\"/></div>, <div class=\"listingCardIconText\" data-binding=\"innertext=Label\">Single Family</div>, <div class=\"listingCardOfficeName\" data-binding=\"innertext=OfficeNameAndType\">RE/MAX 3000 INC., Real Estate Agency</div>, <div class=\"listingCardFooter\">\n",
              " <div class=\"listingCardFooterLeft\">\n",
              " <div data-binding=\"RealtorImages\">\n",
              " <img alt=\"Aicha Nadour photo\" class=\"listingCardRealtorImg\" data-binding=\"src=RealtorImageURL,alt=RealtorImageAltText\" src=\"https://cdn.realtor.ca/individual/TS636886908600000000/lowres/1248821.jpg\"/>\n",
              " </div>\n",
              " </div>\n",
              " <div class=\"listingCardFooterCenter\">\n",
              " </div>\n",
              " <div class=\"listingCardFooterRight\">\n",
              " <img alt=\"RE/MAX 3000 INC. logo\" class=\"listingCardOfficeImg\" data-binding=\"visible=HasOfficeLogo,src=OfficeLogo,alt=OfficeAltText\" src=\"https://cdn.realtor.ca/organization/en-CA/TS637267871830000000/lowres/1103475.jpg\"/>\n",
              " </div>\n",
              " </div>, <div class=\"listingCardFooterLeft\">\n",
              " <div data-binding=\"RealtorImages\">\n",
              " <img alt=\"Aicha Nadour photo\" class=\"listingCardRealtorImg\" data-binding=\"src=RealtorImageURL,alt=RealtorImageAltText\" src=\"https://cdn.realtor.ca/individual/TS636886908600000000/lowres/1248821.jpg\"/>\n",
              " </div>\n",
              " </div>, <div data-binding=\"RealtorImages\">\n",
              " <img alt=\"Aicha Nadour photo\" class=\"listingCardRealtorImg\" data-binding=\"src=RealtorImageURL,alt=RealtorImageAltText\" src=\"https://cdn.realtor.ca/individual/TS636886908600000000/lowres/1248821.jpg\"/>\n",
              " </div>, <div class=\"listingCardFooterCenter\">\n",
              " </div>, <div class=\"listingCardFooterRight\">\n",
              " <img alt=\"RE/MAX 3000 INC. logo\" class=\"listingCardOfficeImg\" data-binding=\"visible=HasOfficeLogo,src=OfficeLogo,alt=OfficeAltText\" src=\"https://cdn.realtor.ca/organization/en-CA/TS637267871830000000/lowres/1103475.jpg\"/>\n",
              " </div>]"
            ]
          },
          "metadata": {
            "tags": []
          },
          "execution_count": 72
        }
      ]
    },
    {
      "cell_type": "code",
      "metadata": {
        "id": "g_xguLYBpGiQ",
        "colab_type": "code",
        "colab": {
          "base_uri": "https://localhost:8080/",
          "height": 104
        },
        "outputId": "9d05455d-5c83-4782-8218-c0ed4adca9d1"
      },
      "source": [
        "# price\n",
        "price = first.find_all(\"div\", class_=\"listingCardPrice\")[0].text\n",
        "\n",
        "import re\n",
        "price = re.sub(\"[^\\d\\.]\", \"\", price)\n",
        "print(price)\n",
        "\n",
        "# address\n",
        "address = first.find_all(\"div\", class_=\"listingCardAddress\")[0].text.lstrip()\n",
        "print(address)\n",
        "\n",
        "# img url\n",
        "img = str(first.find_all(\"img\")[1])\n",
        "img\n",
        "imgurl = img[img.find(\"src=\", img.find(\"src\")+1)+4 : len(img)-8] # find the second occurance of \"src=\"\n",
        "imgurl"
      ],
      "execution_count": 78,
      "outputs": [
        {
          "output_type": "stream",
          "text": [
            "49000\n",
            "24 Rue Roger, Montréal (L'Île-Bizard/Sainte-Geneviève), Quebec \r\n",
            "                    \n",
            "\n",
            "\n"
          ],
          "name": "stdout"
        }
      ]
    },
    {
      "cell_type": "code",
      "metadata": {
        "id": "p2s0LghitZ2B",
        "colab_type": "code",
        "colab": {
          "base_uri": "https://localhost:8080/",
          "height": 72
        },
        "outputId": "847cef55-3a13-4e9a-b77d-1f1f86ba1a3c"
      },
      "source": [
        "# get all the links\n",
        "for url in first.find_all('a', class_=\"blockLink listingDetailsLink\" ):\n",
        "    print(url.get('href'))\n",
        "    # adding the domain part to the url\n",
        "    url_complet = \"https://www.realtor.ca\"+ url.get(\"href\")\n",
        "    print(url_complet)\n"
      ],
      "execution_count": 76,
      "outputs": [
        {
          "output_type": "stream",
          "text": [
            "/real-estate/21600898/24-rue-roger-montréal-lîle-bizardsainte-geneviève-lîle-bizard\n",
            "https://www.realtor.ca/real-estate/21600898/24-rue-roger-montréal-lîle-bizardsainte-geneviève-lîle-bizard\n"
          ],
          "name": "stdout"
        }
      ]
    },
    {
      "cell_type": "code",
      "metadata": {
        "id": "JYWgdLKrvRVr",
        "colab_type": "code",
        "colab": {
          "base_uri": "https://localhost:8080/",
          "height": 70
        },
        "outputId": "798fc314-4925-444c-fffc-251848f00ce7"
      },
      "source": [
        "img = str(first.find_all(\"img\")[1])\n",
        "img\n"
      ],
      "execution_count": 137,
      "outputs": [
        {
          "output_type": "execute_result",
          "data": {
            "application/vnd.google.colaboratory.intrinsic": {
              "type": "string"
            },
            "text/plain": [
              "'<img alt=\"24 Rue Roger, Montréal (L\\'Île-Bizard/Sainte-Geneviève), Quebec \" class=\"listingCardImage\" data-binding=\"src=ImageURL,alt=Address\" src=\"https://cdn.realtor.ca/listings/TS637177241770070000/reb5/medres/7/22124917_1.jpg\">\\n</img>'"
            ]
          },
          "metadata": {
            "tags": []
          },
          "execution_count": 137
        }
      ]
    },
    {
      "cell_type": "code",
      "metadata": {
        "id": "FcTLnQLe6UtS",
        "colab_type": "code",
        "colab": {
          "base_uri": "https://localhost:8080/",
          "height": 35
        },
        "outputId": "97e4e3bc-44eb-4787-bf03-671231bcd1c9"
      },
      "source": [
        "imgurl = img[img.find(\"src=\", img.find(\"src\")+1)+4 : len(img)-8] # find the second occurance of \"src=\"\n",
        "imgurl"
      ],
      "execution_count": 144,
      "outputs": [
        {
          "output_type": "execute_result",
          "data": {
            "application/vnd.google.colaboratory.intrinsic": {
              "type": "string"
            },
            "text/plain": [
              "'\"https://cdn.realtor.ca/listings/TS637177241770070000/reb5/medres/7/22124917_1.jpg\"'"
            ]
          },
          "metadata": {
            "tags": []
          },
          "execution_count": 144
        }
      ]
    }
  ]
}