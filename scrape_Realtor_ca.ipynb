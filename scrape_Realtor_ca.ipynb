{
  "nbformat": 4,
  "nbformat_minor": 0,
  "metadata": {
    "colab": {
      "name": "scrape Realtor.ca",
      "provenance": [],
      "authorship_tag": "ABX9TyPcioYol2fmuUqSUqz4ZUUI",
      "include_colab_link": true
    },
    "kernelspec": {
      "name": "python3",
      "display_name": "Python 3"
    }
  },
  "cells": [
    {
      "cell_type": "markdown",
      "metadata": {
        "id": "view-in-github",
        "colab_type": "text"
      },
      "source": [
        "<a href=\"https://colab.research.google.com/github/RyanXJu/web-Scraper/blob/master/scrape_Realtor_ca.ipynb\" target=\"_parent\"><img src=\"https://colab.research.google.com/assets/colab-badge.svg\" alt=\"Open In Colab\"/></a>"
      ]
    },
    {
      "cell_type": "code",
      "metadata": {
        "id": "PfKxkn8hfQMg",
        "colab_type": "code",
        "colab": {}
      },
      "source": [
        "from bs4 import BeautifulSoup\n",
        "from requests import get\n",
        "import pandas as pd\n",
        "import itertools\n",
        "import matplotlib.pyplot as plt\n",
        "import seaborn as sns\n",
        "import numpy as np\n",
        "import time\n",
        "sns.set()"
      ],
      "execution_count": 245,
      "outputs": []
    },
    {
      "cell_type": "markdown",
      "metadata": {
        "id": "wvIqjJNnhrtu",
        "colab_type": "text"
      },
      "source": [
        "### check if the website allows scraping\n",
        "#### adding /robots.txt to the original domain\n",
        "\n",
        "### if the site doesn't allow scraping, we can  define a header to pass along the ***get*** command, which will basically make our queries to the website look like they are coming from an actual browser"
      ]
    },
    {
      "cell_type": "markdown",
      "metadata": {
        "id": "Pk7Odt75kgFQ",
        "colab_type": "text"
      },
      "source": [
        "## Scrape web"
      ]
    },
    {
      "cell_type": "code",
      "metadata": {
        "id": "WAe3tbVMhcCO",
        "colab_type": "code",
        "colab": {}
      },
      "source": [
        "headers = {\n",
        "        'user-agent': 'Mozilla/5.0 (Macintosh; Intel Mac OS X 10_11_6) AppleWebKit/537.36 (KHTML, like Gecko) Chrome/56.0.2924.87 Safari/537.36',\n",
        "        'referrer': 'https://google.com',\n",
        "        'Accept': 'text/html,application/xhtml+xml,application/xml;q=0.9,image/webp,image/apng,*/*;q=0.8',\n",
        "        'Accept-Encoding': 'gzip, deflate, br',\n",
        "        'Accept-Language': 'en-US,en;q=0.9',\n",
        "        'Pragma': 'no-cache',\n",
        "    }"
      ],
      "execution_count": 269,
      "outputs": []
    },
    {
      "cell_type": "code",
      "metadata": {
        "id": "pcUMbdigjxLf",
        "colab_type": "code",
        "colab": {
          "base_uri": "https://localhost:8080/",
          "height": 157
        },
        "outputId": "633b1630-107d-41a8-db15-71c8ba16ab67"
      },
      "source": [
        "# define the url to use\n",
        "\n",
        "realtor = \"https://www.realtor.ca/qc/montreal/real-estate\"\n",
        "\n",
        "response = get(realtor, headers=headers)\n",
        "\n",
        "response.text"
      ],
      "execution_count": 270,
      "outputs": [
        {
          "output_type": "execute_result",
          "data": {
            "application/vnd.google.colaboratory.intrinsic": {
              "type": "string"
            },
            "text/plain": [
              "'<html style=\"height:100%\"><head><META NAME=\"ROBOTS\" CONTENT=\"NOINDEX, NOFOLLOW\"><meta name=\"format-detection\" content=\"telephone=no\"><meta name=\"viewport\" content=\"initial-scale=1.0\"><meta http-equiv=\"X-UA-Compatible\" content=\"IE=edge,chrome=1\"></head><body style=\"margin:0px;height:100%\"><iframe id=\"main-iframe\" src=\"/_Incapsula_Resource?CWUDNSAI=41&xinfo=12-87215717-0%20PNNN%20RT%281595200384591%2025%29%20q%280%20-1%20-1%20-1%29%20r%280%20-1%29%20B10%2814%2c0%2c0%29%20U18&incident_id=1165000050207876770-478345956829233484&edet=10&cinfo=0e0000000e09&rpinfo=0\" frameborder=0 width=\"100%\" height=\"100%\" marginheight=\"0px\" marginwidth=\"0px\">Request unsuccessful. Incapsula incident ID: 1165000050207876770-478345956829233484</iframe></body></html>'"
            ]
          },
          "metadata": {
            "tags": []
          },
          "execution_count": 270
        }
      ]
    },
    {
      "cell_type": "code",
      "metadata": {
        "id": "PNLEeG5gj3-p",
        "colab_type": "code",
        "colab": {
          "base_uri": "https://localhost:8080/",
          "height": 34
        },
        "outputId": "b575f7d1-c739-4a93-8838-3eb3fc88aeb6"
      },
      "source": [
        "print(response)\n",
        "# list of HTTP status codes : https://en.wikipedia.org/wiki/List_of_HTTP_status_codes"
      ],
      "execution_count": 250,
      "outputs": [
        {
          "output_type": "stream",
          "text": [
            "<Response [200]>\n"
          ],
          "name": "stdout"
        }
      ]
    },
    {
      "cell_type": "code",
      "metadata": {
        "id": "vDigyxHAkS6X",
        "colab_type": "code",
        "colab": {
          "base_uri": "https://localhost:8080/",
          "height": 298
        },
        "outputId": "c968fe63-3c14-4ec7-cecc-b8dccd8dcfa6"
      },
      "source": [
        "print(response.text[:1000])"
      ],
      "execution_count": 251,
      "outputs": [
        {
          "output_type": "stream",
          "text": [
            "\r\n",
            "<!DOCTYPE html>\r\n",
            "<html xmlns=\"http://www.w3.org/1999/xhtml\" lang=\"en\">\r\n",
            "<head><script src=\"/e8469ba99880590089b6cb783b503a90\" async></script><meta charset=\"utf-8\" /><meta name=\"theme-color\" content=\"#D0191D\" /><meta name=\"viewport\" content=\"width=device-width\" /><meta name=\"google\" content=\"notranslate\" /><meta http-equiv=\"CACHE-CONTROL\" content=\"NO-CACHE\" /><meta http-equiv=\"PRAGMA\" content=\"NO-CACHE\" /><meta name=\"GOOGLEBOT\" content=\"NOARCHIVE\" /><meta name=\"format-detection\" content=\"telephone=no\" /><meta name=\"shareaholic:site_id\" content=\"a2430a87e639e6cf0f00273171d97103\" />\r\n",
            "    <link rel=\"alternate\" hreflang=\"en\" href=\"https://www.realtor.ca/qc/montreal/real-estate\" />\r\n",
            "    \r\n",
            "    <link rel=\"alternate\" hreflang=\"fr\" href=\"https://www.realtor.ca/qc/montréal/immobilier\" />\r\n",
            "    \r\n",
            "    <link rel=\"canonical\" href=\"https://www.realtor.ca/qc/montreal/real-estate\" />\r\n",
            "    <title>\r\n",
            "\tReal Estate in Montréal | REALTOR.ca\r\n",
            "</title>\r\n",
            "\r\n",
            "    <!-- FavIcon and browser tile defaults (begin)-->\r\n",
            "\n"
          ],
          "name": "stdout"
        }
      ]
    },
    {
      "cell_type": "markdown",
      "metadata": {
        "id": "3nni4lV7kbam",
        "colab_type": "text"
      },
      "source": [
        "## make the Soup!"
      ]
    },
    {
      "cell_type": "code",
      "metadata": {
        "id": "tT5mTcKBkeHw",
        "colab_type": "code",
        "colab": {}
      },
      "source": [
        "html_soup = BeautifulSoup(response.text, 'html.parser')"
      ],
      "execution_count": 252,
      "outputs": []
    },
    {
      "cell_type": "markdown",
      "metadata": {
        "id": "qdinpo89nP7V",
        "colab_type": "text"
      },
      "source": [
        "an object that can be iterated while we scrape the results in each search page\n",
        "\n",
        "\n",
        "\n",
        "\n"
      ]
    },
    {
      "cell_type": "code",
      "metadata": {
        "id": "N7f7n_Abm-Bd",
        "colab_type": "code",
        "colab": {}
      },
      "source": [
        "house_containers = html_soup.find_all('div', class_=\"listingCard card\")"
      ],
      "execution_count": 253,
      "outputs": []
    },
    {
      "cell_type": "code",
      "metadata": {
        "id": "RCcRthLcnbuM",
        "colab_type": "code",
        "colab": {
          "base_uri": "https://localhost:8080/",
          "height": 1000
        },
        "outputId": "f90c77c4-0945-4521-fd54-dd29019c43ed"
      },
      "source": [
        "first = house_containers[0]\n",
        "first.find_all('div')"
      ],
      "execution_count": 254,
      "outputs": [
        {
          "output_type": "execute_result",
          "data": {
            "text/plain": [
              "[<div class=\"listingCardHeader\">\n",
              " <div class=\"listingCardHeaderLeft\">\n",
              " </div>\n",
              " <div class=\"listingCardHeaderRight\" data-binding=\"visible=ShowHeaderIcons\">\n",
              " <a aria-label=\"Add Notes\" class=\"propertyCardDetailsNoteIcon noteIcon listingCardActionIcon\" data-binding=\"data-value={Id}_{AddressForNotes}_{Latitude}_{Longitude}\" data-value=\"21600898_24 Rue Roger, Montréal (L'Île-Bizard/Sainte-Geneviève), Quebec _45.478_-73.925661\" href=\"#\" style=\"text-decoration: none; display: none;\">\n",
              " <span class=\"listingCardNoteIcon m_al fa fa-sticky-note\" style=\"font-size: 31px; color: #F3E500;\"></span></a>\n",
              " <a aria-label=\"Add to My Favourites\" class=\"propertyCardDetailsFavouriteIcon favouriteIcon listingCardActionIcon\" data-binding=\"data-value={Id}_{Latitude}_{Longitude}_{AppMode}\" data-value=\"21600898_45.478_-73.925661_1\" href=\"#\" onclick=\"\" style=\"text-decoration: none;\">\n",
              " <img alt=\"\" src=\"/images/common/icons/svg/heart-empty.svg\" style=\"height: 27px; width: 31px;\"/>\n",
              " </a>\n",
              " </div>\n",
              " </div>, <div class=\"listingCardHeaderLeft\">\n",
              " </div>, <div class=\"listingCardHeaderRight\" data-binding=\"visible=ShowHeaderIcons\">\n",
              " <a aria-label=\"Add Notes\" class=\"propertyCardDetailsNoteIcon noteIcon listingCardActionIcon\" data-binding=\"data-value={Id}_{AddressForNotes}_{Latitude}_{Longitude}\" data-value=\"21600898_24 Rue Roger, Montréal (L'Île-Bizard/Sainte-Geneviève), Quebec _45.478_-73.925661\" href=\"#\" style=\"text-decoration: none; display: none;\">\n",
              " <span class=\"listingCardNoteIcon m_al fa fa-sticky-note\" style=\"font-size: 31px; color: #F3E500;\"></span></a>\n",
              " <a aria-label=\"Add to My Favourites\" class=\"propertyCardDetailsFavouriteIcon favouriteIcon listingCardActionIcon\" data-binding=\"data-value={Id}_{Latitude}_{Longitude}_{AppMode}\" data-value=\"21600898_45.478_-73.925661_1\" href=\"#\" onclick=\"\" style=\"text-decoration: none;\">\n",
              " <img alt=\"\" src=\"/images/common/icons/svg/heart-empty.svg\" style=\"height: 27px; width: 31px;\"/>\n",
              " </a>\n",
              " </div>, <div class=\"listingCardOuterBody\">\n",
              " <div class=\"listingCardImageCon\">\n",
              " <img alt=\"24 Rue Roger, Montréal (L'Île-Bizard/Sainte-Geneviève), Quebec \" class=\"listingCardImage\" data-binding=\"src=ImageURL,alt=Address\" src=\"https://cdn.realtor.ca/listings/TS637177241770070000/reb5/medres/7/22124917_1.jpg\">\n",
              " </img></div>\n",
              " <div class=\"listingCardBody\">\n",
              " <div class=\"listingCardTopBody\" data-binding=\"hidden=ListingNotFound\">\n",
              " <div class=\"listingCardMLS\" style=\"display: none;\">MLS<sup>®</sup>: <span data-binding=\"innertext=MLSNumber,title=MLSNumber\" title=\"22124917\">22124917</span></div>\n",
              " <div class=\"listingCardPrice\" data-binding=\"data-value-cad={Price},innertext=DisplayPrice,title=ConvertedPrice\" data-value-cad=\"$49,000\" title=\"$49,000 \">$49,000 </div>\n",
              " <div class=\"listingCardAddress\" data-binding=\"innertext=Address\">\n",
              "                         24 Rue Roger, Montréal (L'Île-Bizard/Sainte-Geneviève), Quebec \n",
              "                     </div>\n",
              " </div>\n",
              " <div class=\"listingCardIconStrip\" data-binding=\"FooterIcons,visible=ShowFooterIcons\">\n",
              " <div class=\"listingCardIconCon\">\n",
              " <div class=\"listingCardIconTopCon\">\n",
              " <div class=\"listingCardIconNum\" data-binding=\"innertext=NumberVal\">2</div>\n",
              " <div class=\"listingCardIcon\" data-binding=\"innertext=IconHTML\"><div class=\"propertyCardBedIcon\"><img alt=\"\" src=\"/images/common/icons/svg/bed-gray.svg\"/></div></div>\n",
              " </div>\n",
              " <div class=\"listingCardIconText\" data-binding=\"innertext=Label\">Bedrooms</div>\n",
              " </div>\n",
              " <div class=\"listingCardIconCon\">\n",
              " <div class=\"listingCardIconTopCon\">\n",
              " <div class=\"listingCardIconNum\" data-binding=\"innertext=NumberVal\">1</div>\n",
              " <div class=\"listingCardIcon\" data-binding=\"innertext=IconHTML\"><div class=\"propertyCardBedIcon\"><img alt=\"\" src=\"/images/common/icons/svg/bath-gray.svg\"/></div></div>\n",
              " </div>\n",
              " <div class=\"listingCardIconText\" data-binding=\"innertext=Label\">Bathrooms</div>\n",
              " </div>\n",
              " <div class=\"listingCardIconCon\">\n",
              " <div class=\"listingCardIconTopCon\">\n",
              " <div class=\"listingCardIconNum\" data-binding=\"innertext=NumberVal\"></div>\n",
              " <div class=\"listingCardIcon\" data-binding=\"innertext=IconHTML\"><div class=\"propertyCardBedIcon\"><img alt=\"\" src=\"/images/common/icons/svg/house-gray2.svg\"/></div></div>\n",
              " </div>\n",
              " <div class=\"listingCardIconText\" data-binding=\"innertext=Label\">Single Family</div>\n",
              " </div>\n",
              " </div>\n",
              " <div class=\"listingCardOfficeName\" data-binding=\"innertext=OfficeNameAndType\">RE/MAX 3000 INC., Real Estate Agency</div>\n",
              " </div>\n",
              " </div>, <div class=\"listingCardImageCon\">\n",
              " <img alt=\"24 Rue Roger, Montréal (L'Île-Bizard/Sainte-Geneviève), Quebec \" class=\"listingCardImage\" data-binding=\"src=ImageURL,alt=Address\" src=\"https://cdn.realtor.ca/listings/TS637177241770070000/reb5/medres/7/22124917_1.jpg\">\n",
              " </img></div>, <div class=\"listingCardBody\">\n",
              " <div class=\"listingCardTopBody\" data-binding=\"hidden=ListingNotFound\">\n",
              " <div class=\"listingCardMLS\" style=\"display: none;\">MLS<sup>®</sup>: <span data-binding=\"innertext=MLSNumber,title=MLSNumber\" title=\"22124917\">22124917</span></div>\n",
              " <div class=\"listingCardPrice\" data-binding=\"data-value-cad={Price},innertext=DisplayPrice,title=ConvertedPrice\" data-value-cad=\"$49,000\" title=\"$49,000 \">$49,000 </div>\n",
              " <div class=\"listingCardAddress\" data-binding=\"innertext=Address\">\n",
              "                         24 Rue Roger, Montréal (L'Île-Bizard/Sainte-Geneviève), Quebec \n",
              "                     </div>\n",
              " </div>\n",
              " <div class=\"listingCardIconStrip\" data-binding=\"FooterIcons,visible=ShowFooterIcons\">\n",
              " <div class=\"listingCardIconCon\">\n",
              " <div class=\"listingCardIconTopCon\">\n",
              " <div class=\"listingCardIconNum\" data-binding=\"innertext=NumberVal\">2</div>\n",
              " <div class=\"listingCardIcon\" data-binding=\"innertext=IconHTML\"><div class=\"propertyCardBedIcon\"><img alt=\"\" src=\"/images/common/icons/svg/bed-gray.svg\"/></div></div>\n",
              " </div>\n",
              " <div class=\"listingCardIconText\" data-binding=\"innertext=Label\">Bedrooms</div>\n",
              " </div>\n",
              " <div class=\"listingCardIconCon\">\n",
              " <div class=\"listingCardIconTopCon\">\n",
              " <div class=\"listingCardIconNum\" data-binding=\"innertext=NumberVal\">1</div>\n",
              " <div class=\"listingCardIcon\" data-binding=\"innertext=IconHTML\"><div class=\"propertyCardBedIcon\"><img alt=\"\" src=\"/images/common/icons/svg/bath-gray.svg\"/></div></div>\n",
              " </div>\n",
              " <div class=\"listingCardIconText\" data-binding=\"innertext=Label\">Bathrooms</div>\n",
              " </div>\n",
              " <div class=\"listingCardIconCon\">\n",
              " <div class=\"listingCardIconTopCon\">\n",
              " <div class=\"listingCardIconNum\" data-binding=\"innertext=NumberVal\"></div>\n",
              " <div class=\"listingCardIcon\" data-binding=\"innertext=IconHTML\"><div class=\"propertyCardBedIcon\"><img alt=\"\" src=\"/images/common/icons/svg/house-gray2.svg\"/></div></div>\n",
              " </div>\n",
              " <div class=\"listingCardIconText\" data-binding=\"innertext=Label\">Single Family</div>\n",
              " </div>\n",
              " </div>\n",
              " <div class=\"listingCardOfficeName\" data-binding=\"innertext=OfficeNameAndType\">RE/MAX 3000 INC., Real Estate Agency</div>\n",
              " </div>, <div class=\"listingCardTopBody\" data-binding=\"hidden=ListingNotFound\">\n",
              " <div class=\"listingCardMLS\" style=\"display: none;\">MLS<sup>®</sup>: <span data-binding=\"innertext=MLSNumber,title=MLSNumber\" title=\"22124917\">22124917</span></div>\n",
              " <div class=\"listingCardPrice\" data-binding=\"data-value-cad={Price},innertext=DisplayPrice,title=ConvertedPrice\" data-value-cad=\"$49,000\" title=\"$49,000 \">$49,000 </div>\n",
              " <div class=\"listingCardAddress\" data-binding=\"innertext=Address\">\n",
              "                         24 Rue Roger, Montréal (L'Île-Bizard/Sainte-Geneviève), Quebec \n",
              "                     </div>\n",
              " </div>, <div class=\"listingCardMLS\" style=\"display: none;\">MLS<sup>®</sup>: <span data-binding=\"innertext=MLSNumber,title=MLSNumber\" title=\"22124917\">22124917</span></div>, <div class=\"listingCardPrice\" data-binding=\"data-value-cad={Price},innertext=DisplayPrice,title=ConvertedPrice\" data-value-cad=\"$49,000\" title=\"$49,000 \">$49,000 </div>, <div class=\"listingCardAddress\" data-binding=\"innertext=Address\">\n",
              "                         24 Rue Roger, Montréal (L'Île-Bizard/Sainte-Geneviève), Quebec \n",
              "                     </div>, <div class=\"listingCardIconStrip\" data-binding=\"FooterIcons,visible=ShowFooterIcons\">\n",
              " <div class=\"listingCardIconCon\">\n",
              " <div class=\"listingCardIconTopCon\">\n",
              " <div class=\"listingCardIconNum\" data-binding=\"innertext=NumberVal\">2</div>\n",
              " <div class=\"listingCardIcon\" data-binding=\"innertext=IconHTML\"><div class=\"propertyCardBedIcon\"><img alt=\"\" src=\"/images/common/icons/svg/bed-gray.svg\"/></div></div>\n",
              " </div>\n",
              " <div class=\"listingCardIconText\" data-binding=\"innertext=Label\">Bedrooms</div>\n",
              " </div>\n",
              " <div class=\"listingCardIconCon\">\n",
              " <div class=\"listingCardIconTopCon\">\n",
              " <div class=\"listingCardIconNum\" data-binding=\"innertext=NumberVal\">1</div>\n",
              " <div class=\"listingCardIcon\" data-binding=\"innertext=IconHTML\"><div class=\"propertyCardBedIcon\"><img alt=\"\" src=\"/images/common/icons/svg/bath-gray.svg\"/></div></div>\n",
              " </div>\n",
              " <div class=\"listingCardIconText\" data-binding=\"innertext=Label\">Bathrooms</div>\n",
              " </div>\n",
              " <div class=\"listingCardIconCon\">\n",
              " <div class=\"listingCardIconTopCon\">\n",
              " <div class=\"listingCardIconNum\" data-binding=\"innertext=NumberVal\"></div>\n",
              " <div class=\"listingCardIcon\" data-binding=\"innertext=IconHTML\"><div class=\"propertyCardBedIcon\"><img alt=\"\" src=\"/images/common/icons/svg/house-gray2.svg\"/></div></div>\n",
              " </div>\n",
              " <div class=\"listingCardIconText\" data-binding=\"innertext=Label\">Single Family</div>\n",
              " </div>\n",
              " </div>, <div class=\"listingCardIconCon\">\n",
              " <div class=\"listingCardIconTopCon\">\n",
              " <div class=\"listingCardIconNum\" data-binding=\"innertext=NumberVal\">2</div>\n",
              " <div class=\"listingCardIcon\" data-binding=\"innertext=IconHTML\"><div class=\"propertyCardBedIcon\"><img alt=\"\" src=\"/images/common/icons/svg/bed-gray.svg\"/></div></div>\n",
              " </div>\n",
              " <div class=\"listingCardIconText\" data-binding=\"innertext=Label\">Bedrooms</div>\n",
              " </div>, <div class=\"listingCardIconTopCon\">\n",
              " <div class=\"listingCardIconNum\" data-binding=\"innertext=NumberVal\">2</div>\n",
              " <div class=\"listingCardIcon\" data-binding=\"innertext=IconHTML\"><div class=\"propertyCardBedIcon\"><img alt=\"\" src=\"/images/common/icons/svg/bed-gray.svg\"/></div></div>\n",
              " </div>, <div class=\"listingCardIconNum\" data-binding=\"innertext=NumberVal\">2</div>, <div class=\"listingCardIcon\" data-binding=\"innertext=IconHTML\"><div class=\"propertyCardBedIcon\"><img alt=\"\" src=\"/images/common/icons/svg/bed-gray.svg\"/></div></div>, <div class=\"propertyCardBedIcon\"><img alt=\"\" src=\"/images/common/icons/svg/bed-gray.svg\"/></div>, <div class=\"listingCardIconText\" data-binding=\"innertext=Label\">Bedrooms</div>, <div class=\"listingCardIconCon\">\n",
              " <div class=\"listingCardIconTopCon\">\n",
              " <div class=\"listingCardIconNum\" data-binding=\"innertext=NumberVal\">1</div>\n",
              " <div class=\"listingCardIcon\" data-binding=\"innertext=IconHTML\"><div class=\"propertyCardBedIcon\"><img alt=\"\" src=\"/images/common/icons/svg/bath-gray.svg\"/></div></div>\n",
              " </div>\n",
              " <div class=\"listingCardIconText\" data-binding=\"innertext=Label\">Bathrooms</div>\n",
              " </div>, <div class=\"listingCardIconTopCon\">\n",
              " <div class=\"listingCardIconNum\" data-binding=\"innertext=NumberVal\">1</div>\n",
              " <div class=\"listingCardIcon\" data-binding=\"innertext=IconHTML\"><div class=\"propertyCardBedIcon\"><img alt=\"\" src=\"/images/common/icons/svg/bath-gray.svg\"/></div></div>\n",
              " </div>, <div class=\"listingCardIconNum\" data-binding=\"innertext=NumberVal\">1</div>, <div class=\"listingCardIcon\" data-binding=\"innertext=IconHTML\"><div class=\"propertyCardBedIcon\"><img alt=\"\" src=\"/images/common/icons/svg/bath-gray.svg\"/></div></div>, <div class=\"propertyCardBedIcon\"><img alt=\"\" src=\"/images/common/icons/svg/bath-gray.svg\"/></div>, <div class=\"listingCardIconText\" data-binding=\"innertext=Label\">Bathrooms</div>, <div class=\"listingCardIconCon\">\n",
              " <div class=\"listingCardIconTopCon\">\n",
              " <div class=\"listingCardIconNum\" data-binding=\"innertext=NumberVal\"></div>\n",
              " <div class=\"listingCardIcon\" data-binding=\"innertext=IconHTML\"><div class=\"propertyCardBedIcon\"><img alt=\"\" src=\"/images/common/icons/svg/house-gray2.svg\"/></div></div>\n",
              " </div>\n",
              " <div class=\"listingCardIconText\" data-binding=\"innertext=Label\">Single Family</div>\n",
              " </div>, <div class=\"listingCardIconTopCon\">\n",
              " <div class=\"listingCardIconNum\" data-binding=\"innertext=NumberVal\"></div>\n",
              " <div class=\"listingCardIcon\" data-binding=\"innertext=IconHTML\"><div class=\"propertyCardBedIcon\"><img alt=\"\" src=\"/images/common/icons/svg/house-gray2.svg\"/></div></div>\n",
              " </div>, <div class=\"listingCardIconNum\" data-binding=\"innertext=NumberVal\"></div>, <div class=\"listingCardIcon\" data-binding=\"innertext=IconHTML\"><div class=\"propertyCardBedIcon\"><img alt=\"\" src=\"/images/common/icons/svg/house-gray2.svg\"/></div></div>, <div class=\"propertyCardBedIcon\"><img alt=\"\" src=\"/images/common/icons/svg/house-gray2.svg\"/></div>, <div class=\"listingCardIconText\" data-binding=\"innertext=Label\">Single Family</div>, <div class=\"listingCardOfficeName\" data-binding=\"innertext=OfficeNameAndType\">RE/MAX 3000 INC., Real Estate Agency</div>, <div class=\"listingCardFooter\">\n",
              " <div class=\"listingCardFooterLeft\">\n",
              " <div data-binding=\"RealtorImages\">\n",
              " <img alt=\"Aicha Nadour photo\" class=\"listingCardRealtorImg\" data-binding=\"src=RealtorImageURL,alt=RealtorImageAltText\" src=\"https://cdn.realtor.ca/individual/TS636886908600000000/lowres/1248821.jpg\"/>\n",
              " </div>\n",
              " </div>\n",
              " <div class=\"listingCardFooterCenter\">\n",
              " </div>\n",
              " <div class=\"listingCardFooterRight\">\n",
              " <img alt=\"RE/MAX 3000 INC. logo\" class=\"listingCardOfficeImg\" data-binding=\"visible=HasOfficeLogo,src=OfficeLogo,alt=OfficeAltText\" src=\"https://cdn.realtor.ca/organization/en-CA/TS637267871830000000/lowres/1103475.jpg\"/>\n",
              " </div>\n",
              " </div>, <div class=\"listingCardFooterLeft\">\n",
              " <div data-binding=\"RealtorImages\">\n",
              " <img alt=\"Aicha Nadour photo\" class=\"listingCardRealtorImg\" data-binding=\"src=RealtorImageURL,alt=RealtorImageAltText\" src=\"https://cdn.realtor.ca/individual/TS636886908600000000/lowres/1248821.jpg\"/>\n",
              " </div>\n",
              " </div>, <div data-binding=\"RealtorImages\">\n",
              " <img alt=\"Aicha Nadour photo\" class=\"listingCardRealtorImg\" data-binding=\"src=RealtorImageURL,alt=RealtorImageAltText\" src=\"https://cdn.realtor.ca/individual/TS636886908600000000/lowres/1248821.jpg\"/>\n",
              " </div>, <div class=\"listingCardFooterCenter\">\n",
              " </div>, <div class=\"listingCardFooterRight\">\n",
              " <img alt=\"RE/MAX 3000 INC. logo\" class=\"listingCardOfficeImg\" data-binding=\"visible=HasOfficeLogo,src=OfficeLogo,alt=OfficeAltText\" src=\"https://cdn.realtor.ca/organization/en-CA/TS637267871830000000/lowres/1103475.jpg\"/>\n",
              " </div>]"
            ]
          },
          "metadata": {
            "tags": []
          },
          "execution_count": 254
        }
      ]
    },
    {
      "cell_type": "code",
      "metadata": {
        "id": "mCOoJQx__hWX",
        "colab_type": "code",
        "colab": {
          "base_uri": "https://localhost:8080/",
          "height": 176
        },
        "outputId": "a2eb6b2c-5b63-45e3-964f-8c0ec8e99e16"
      },
      "source": [
        "first.find_all(\"img\")"
      ],
      "execution_count": 255,
      "outputs": [
        {
          "output_type": "execute_result",
          "data": {
            "text/plain": [
              "[<img alt=\"\" src=\"/images/common/icons/svg/heart-empty.svg\" style=\"height: 27px; width: 31px;\"/>,\n",
              " <img alt=\"24 Rue Roger, Montréal (L'Île-Bizard/Sainte-Geneviève), Quebec \" class=\"listingCardImage\" data-binding=\"src=ImageURL,alt=Address\" src=\"https://cdn.realtor.ca/listings/TS637177241770070000/reb5/medres/7/22124917_1.jpg\">\n",
              " </img>,\n",
              " <img alt=\"\" src=\"/images/common/icons/svg/bed-gray.svg\"/>,\n",
              " <img alt=\"\" src=\"/images/common/icons/svg/bath-gray.svg\"/>,\n",
              " <img alt=\"\" src=\"/images/common/icons/svg/house-gray2.svg\"/>,\n",
              " <img alt=\"Aicha Nadour photo\" class=\"listingCardRealtorImg\" data-binding=\"src=RealtorImageURL,alt=RealtorImageAltText\" src=\"https://cdn.realtor.ca/individual/TS636886908600000000/lowres/1248821.jpg\"/>,\n",
              " <img alt=\"RE/MAX 3000 INC. logo\" class=\"listingCardOfficeImg\" data-binding=\"visible=HasOfficeLogo,src=OfficeLogo,alt=OfficeAltText\" src=\"https://cdn.realtor.ca/organization/en-CA/TS637267871830000000/lowres/1103475.jpg\"/>]"
            ]
          },
          "metadata": {
            "tags": []
          },
          "execution_count": 255
        }
      ]
    },
    {
      "cell_type": "code",
      "metadata": {
        "id": "g_xguLYBpGiQ",
        "colab_type": "code",
        "colab": {
          "base_uri": "https://localhost:8080/",
          "height": 104
        },
        "outputId": "ef1acc8e-376b-4694-d748-dc1999ed9adb"
      },
      "source": [
        "# price\n",
        "price = first.find_all(\"div\", class_=\"listingCardPrice\")[0].text\n",
        "\n",
        "import re\n",
        "price = re.sub(\"[^\\d\\.]\", \"\", price)\n",
        "print(price)\n",
        "\n",
        "# address\n",
        "address = first.find_all(\"div\", class_=\"listingCardAddress\")[0].text.lstrip().rstrip()\n",
        "print(address)\n",
        "\n",
        "# thumbnail img url\n",
        "img = str(first.find_all(\"img\")[1])\n",
        "img\n",
        "imgurl = img[img.find(\"src=\", img.find(\"src\")+1)+4 : len(img)-8] # find the second occurance of \"src=\"\n",
        "print(imgurl)\n",
        "\n",
        "# Realtor name (extract from listingCardRealtorImg)\n",
        "img_realtor = str(first.find_all(\"img\")[5])\n",
        "realtor = img_realtor[img_realtor.find(\"alt=\")+5 : img_realtor.find(\"photo\")] # find the second occurance of \"src=\"\n",
        "print(realtor)\n",
        "\n",
        "# Realtor office (extract from listingCardOfficeImg)\n",
        "img_logo = str(first.find_all(\"img\")[6])\n",
        "office = img_logo[img_logo.find(\"alt=\")+5 : img_logo.find(\"logo\")] # find the second occurance of \"src=\"\n",
        "print(office)"
      ],
      "execution_count": 257,
      "outputs": [
        {
          "output_type": "stream",
          "text": [
            "49000\n",
            "24 Rue Roger, Montréal (L'Île-Bizard/Sainte-Geneviève), Quebec\n",
            "\"https://cdn.realtor.ca/listings/TS637177241770070000/reb5/medres/7/22124917_1.jpg\"\n",
            "Aicha Nadour \n",
            "RE/MAX 3000 INC. \n"
          ],
          "name": "stdout"
        }
      ]
    },
    {
      "cell_type": "code",
      "metadata": {
        "id": "p2s0LghitZ2B",
        "colab_type": "code",
        "colab": {
          "base_uri": "https://localhost:8080/",
          "height": 72
        },
        "outputId": "e5ac5dac-4380-4a5b-bccf-9f547943a794"
      },
      "source": [
        "# get all the links\n",
        "for url in first.find_all('a', class_=\"blockLink listingDetailsLink\" ):\n",
        "    print(url.get('href'))\n",
        "    # adding the domain part to the url\n",
        "    url_complet = \"https://www.realtor.ca\"+ url.get(\"href\")\n",
        "    print(url_complet)\n"
      ],
      "execution_count": 258,
      "outputs": [
        {
          "output_type": "stream",
          "text": [
            "/real-estate/21600898/24-rue-roger-montréal-lîle-bizardsainte-geneviève-lîle-bizard\n",
            "https://www.realtor.ca/real-estate/21600898/24-rue-roger-montréal-lîle-bizardsainte-geneviève-lîle-bizard\n"
          ],
          "name": "stdout"
        }
      ]
    },
    {
      "cell_type": "markdown",
      "metadata": {
        "id": "oK0UYTWU-ugr",
        "colab_type": "text"
      },
      "source": [
        "## scraper"
      ]
    },
    {
      "cell_type": "code",
      "metadata": {
        "id": "e2xt8Max-uE8",
        "colab_type": "code",
        "colab": {}
      },
      "source": [
        "# setting up the lists that will form our dataframe with all the results\n",
        "\n",
        "prices = []\n",
        "address = []\n",
        "thumbnails = []\n",
        "realtors = []\n",
        "agencies = []\n",
        "\n"
      ],
      "execution_count": 259,
      "outputs": []
    },
    {
      "cell_type": "code",
      "metadata": {
        "id": "qRn05DU8BZo6",
        "colab_type": "code",
        "colab": {
          "base_uri": "https://localhost:8080/",
          "height": 69
        },
        "outputId": "d22bb74c-a828-4e4d-fdc3-a3da980d949c"
      },
      "source": [
        "%%time\n",
        "\n",
        "n_pages = 0\n",
        "\n",
        "for page in range(1,700):\n",
        "\n",
        "    # add delays\n",
        "    delays = [7, 4, 6, 2, 10, 19]\n",
        "    delay = np.random.choice(delays)\n",
        "    time.sleep(delay)\n",
        "\n",
        "    n_pages += 1\n",
        "\n",
        "# https://www.realtor.ca/map#view=list&Sort=1-A&GeoIds=g30_f25dfkk6&GeoName=Montr%26%23233%3Bal%2C%20QC&PropertyTypeGroupID=1&PropertySearchTypeId=1&TransactionTypeId=2&Currency=CAD\n",
        "# https://www.realtor.ca/map#view=list&CurrentPage=1&Sort=1-A&GeoIds=g30_f25dfkk6&GeoName=Montr%26%23233%3Bal%2C%20QC&PropertyTypeGroupID=1&PropertySearchTypeId=1&TransactionTypeId=2&Currency=CAD\n",
        "# https://www.realtor.ca/map#view=list&CurrentPage=3&Sort=1-A&GeoIds=g30_f25dfkk6&GeoName=Montr%26%23233%3Bal%2C%20QC&PropertyTypeGroupID=1&PropertySearchTypeId=1&TransactionTypeId=2&Currency=CAD    \n",
        "    \n",
        "    Realtor_url = 'https://www.realtor.ca/map#view=list&CurrentPage='+str(page)+\"&Sort=1-A&GeoIds=g30_f25dfkk6&GeoName=Montr%26%23233%3Bal%2C%20QC&PropertyTypeGroupID=1&PropertySearchTypeId=1&TransactionTypeId=2&Currency=CAD\"\n",
        "    r = get(Realtor_url, headers=headers)\n",
        "    page_html = BeautifulSoup(r.text, 'html.parser')\n",
        "    house_containers = page_html.find_all('div', class_=\"listingCard card\")\n",
        "    if house_containers != []:\n",
        "        for container in house_containers:\n",
        "            \n",
        "            # Price \n",
        "            price = first.find_all(\"div\", class_=\"listingCardPrice\")[0].text\n",
        "            price = re.sub(\"[^\\d\\.]\", \"\", price)\n",
        "            print(price)\n",
        "            prices.append(int(price))\n",
        "\n",
        "            # # address\n",
        "            # address = first.find_all(\"div\", class_=\"listingCardAddress\")[0].text.lstrip().rstrip()\n",
        "            # print(address)\n",
        "            # address.append(address)\n",
        "\n",
        "            # # thumbnail img url\n",
        "            # img = str(first.find_all(\"img\")[1])\n",
        "            # imgurl = img[img.find(\"src=\", img.find(\"src\")+1)+4 : len(img)-8] # find the second occurance of \"src=\"\n",
        "            # print(imgurl)\n",
        "            # thumbnails.append(imgurl)\n",
        "\n",
        "            # # Realtor name (extract from listingCardRealtorImg)\n",
        "            # img_realtor = str(first.find_all(\"img\")[5])\n",
        "            # realtor = img_realtor[img_realtor.find(\"alt=\")+5 : img_realtor.find(\"photo\")] # find the second occurance of \"src=\"\n",
        "            # print(realtor)\n",
        "            # realtors.append(realtor)\n",
        "\n",
        "            # # Realtor office (extract from listingCardOfficeImg)\n",
        "            # img_logo = str(first.find_all(\"img\")[6])\n",
        "            # agency = img_logo[img_logo.find(\"alt=\")+5 : img_logo.find(\"logo\")] # find the second occurance of \"src=\"\n",
        "            # print(agency)\n",
        "            # agencies.append(agency)\n",
        "    else:\n",
        "        break\n",
        "    \n",
        "    sleep(randint(1,2))\n",
        "    \n",
        "print('You scraped {} pages containing {} properties.'.format(n_pages, len(address)))"
      ],
      "execution_count": 260,
      "outputs": [
        {
          "output_type": "stream",
          "text": [
            "You scraped 1 pages containing 0 properties.\n",
            "CPU times: user 15.1 ms, sys: 875 µs, total: 15.9 ms\n",
            "Wall time: 4.14 s\n"
          ],
          "name": "stdout"
        }
      ]
    }
  ]
}